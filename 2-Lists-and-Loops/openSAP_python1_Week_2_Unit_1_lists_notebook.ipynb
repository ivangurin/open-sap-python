{
 "cells": [
  {
   "cell_type": "markdown",
   "metadata": {},
   "source": [
    "# What are lists in Python?\n",
    "# Motivation\n",
    "\n",
    "So far we have used only primitive data types in our programs. However, these primitive data types are quite limited. As an\n",
    "example consider the following task. You should write a Python 🐍 program that performs the following steps for a simple\n",
    "shopping list:\n",
    "- Let the user input several products of his/her shopping list \n",
    "- Once the user does not input further products\n",
    "    - Sort the products alphabetically\n",
    "    - Output the sorted shopping list\n",
    "\n",
    "Using only primitive data types and variables it is not possible to solve this task. The problem is that you do not know\n",
    "how many variables are necessary to store the user input before the program is executed. This is why complex\n",
    "data types like lists are necessary. These data types enable the storage of multiple items coherently."
   ]
  },
  {
   "cell_type": "markdown",
   "metadata": {},
   "source": [
    "# Lists in Python\n",
    "A `list` is one of the\n",
    "[sequence types](https://docs.python.org/3/library/stdtypes.html?highlight=list#sequence-types-list-tuple-range)\n",
    "in Python. We will learn about other sequence types in subsequent units.\n",
    "\n",
    "In Python square brackets (i.e. `[` and `]`) are used to create a list. The individual items of the list are separated\n",
    "by commas. Just like primitive data types, lists can be assigned to variables. The following example shows a simple list\n",
    "containing different integer values. This list is assigned to the variable `my_number_list`. Finally, the variable\n",
    "`my_number_list` is printed using the `print()` function."
   ]
  },
  {
   "cell_type": "code",
   "execution_count": 2,
   "metadata": {},
   "outputs": [
    {
     "name": "stdout",
     "output_type": "stream",
     "text": [
      "[0, 1, 1, 2, 3, 5, 8, 13, 21]\n"
     ]
    }
   ],
   "source": [
    "my_number_list = [0, 1, 1, 2, 3, 5, 8, 13, 21]\n",
    "print(my_number_list)"
   ]
  },
  {
   "cell_type": "markdown",
   "metadata": {},
   "source": [
    "Lists can not only contain numbers but any of the data types we have seen so far. In the following example lists\n",
    "containing different data types are created. The list `my_string_list` contains three strings, the list `my_float_list`\n",
    "two floating point numbers. Finally, the list `my_boolean_list` contains four boolean values."
   ]
  },
  {
   "cell_type": "code",
   "execution_count": null,
   "metadata": {},
   "outputs": [],
   "source": [
    "my_string_list = [\"Hello\", \"open\", \"SAP\"]\n",
    "my_float_list = [3.14, -6.63e-34]\n",
    "my_boolean_list = [True, False, False, True]\n",
    "\n",
    "print(my_string_list)"
   ]
  },
  {
   "cell_type": "markdown",
   "metadata": {},
   "source": [
    "It is even possible that lists contain elements of different data types.\n",
    "The `mixed_list` in the following example contains four integers, two strings, a floating point number and a boolean."
   ]
  },
  {
   "cell_type": "code",
   "execution_count": null,
   "metadata": {},
   "outputs": [],
   "source": [
    "my_mixed_list = [1, 3, 5, True, -23, \"a\", 3.234, \"abc\"]\n",
    "print(my_mixed_list)"
   ]
  },
  {
   "cell_type": "markdown",
   "metadata": {},
   "source": [
    "# Basic operations on lists\n",
    "Similar to the primitive data types there are a number of basic operation that can be performed on lists:\n",
    "\n",
    "| Description    | Operator | Example                              | Result               |\n",
    "| -------------- | -------- | ------------------------------------ | -------------------- |\n",
    "| Concatenation  | +        | `[1, 2] + [3, 4]`                    | `[1, 2, 3, 4]`       |\n",
    "| Multiplication | *        | `[1, 2] * 3` *or* <br/> `3 * [1, 2]` | `[1, 2, 1, 2, 1, 2]` |\n",
    "| Containment    | in       | `3 in [1, 2, 3]`                     | `True`               |\n",
    "\n",
    "The `+` operator can be used to concatenate two lists. The result is a new list containing elements of the first operand\n",
    "followed by the elements of the second operand. The `*` operator can be used to repeat a list a given number of times.\n",
    "In contrast to `+` and `*` the operator `in` is only defined for sequence types. It can be used to check if an element\n",
    "is contained in a list.\n",
    "\n",
    "The next example shows the usage of the `+` and the `*` operator."
   ]
  },
  {
   "cell_type": "code",
   "execution_count": 1,
   "metadata": {},
   "outputs": [
    {
     "name": "stdout",
     "output_type": "stream",
     "text": [
      "[1, 2, 3, 4, 5, 6]\n",
      "[1, 2, 3, 1, 2, 3, 1, 2, 3]\n"
     ]
    }
   ],
   "source": [
    "first_list = [1, 2, 3]\n",
    "second_list = [4, 5, 6]\n",
    "\n",
    "new_list = first_list + second_list\n",
    "print(new_list)\n",
    "\n",
    "print(3 * first_list)"
   ]
  },
  {
   "cell_type": "markdown",
   "metadata": {},
   "source": [
    "As mentioned above, the `in` operator is used to check if a list contains en element. The following cell contains an\n",
    "example in which the `in` operator is used to check if a number entered by the user is contained in a list of prime\n",
    "numbers."
   ]
  },
  {
   "cell_type": "code",
   "execution_count": 3,
   "metadata": {},
   "outputs": [
    {
     "ename": "KeyboardInterrupt",
     "evalue": "Interrupted by user",
     "output_type": "error",
     "traceback": [
      "\u001b[0;31m---------------------------------------------------------------------------\u001b[0m",
      "\u001b[0;31mKeyboardInterrupt\u001b[0m                         Traceback (most recent call last)",
      "\u001b[1;32m/Users/ivan/Projects/open-sap-python/week2/openSAP_python1_Week_2_Unit_1_lists_notebook.ipynb Cell 11'\u001b[0m in \u001b[0;36m<cell line: 2>\u001b[0;34m()\u001b[0m\n\u001b[1;32m      <a href='vscode-notebook-cell:/Users/ivan/Projects/open-sap-python/week2/openSAP_python1_Week_2_Unit_1_lists_notebook.ipynb#ch0000010?line=0'>1</a>\u001b[0m prime_numbers \u001b[39m=\u001b[39m [\u001b[39m2\u001b[39m, \u001b[39m3\u001b[39m, \u001b[39m5\u001b[39m, \u001b[39m7\u001b[39m, \u001b[39m11\u001b[39m, \u001b[39m13\u001b[39m, \u001b[39m17\u001b[39m, \u001b[39m19\u001b[39m, \u001b[39m23\u001b[39m, \u001b[39m29\u001b[39m, \u001b[39m31\u001b[39m, \u001b[39m37\u001b[39m, \u001b[39m41\u001b[39m, \u001b[39m43\u001b[39m, \u001b[39m47\u001b[39m]\n\u001b[0;32m----> <a href='vscode-notebook-cell:/Users/ivan/Projects/open-sap-python/week2/openSAP_python1_Week_2_Unit_1_lists_notebook.ipynb#ch0000010?line=1'>2</a>\u001b[0m my_number \u001b[39m=\u001b[39m \u001b[39mint\u001b[39m(\u001b[39minput\u001b[39;49m(\u001b[39m\"\u001b[39;49m\u001b[39mPlease enter a number: \u001b[39;49m\u001b[39m\"\u001b[39;49m))\n\u001b[1;32m      <a href='vscode-notebook-cell:/Users/ivan/Projects/open-sap-python/week2/openSAP_python1_Week_2_Unit_1_lists_notebook.ipynb#ch0000010?line=3'>4</a>\u001b[0m \u001b[39mif\u001b[39;00m my_number \u001b[39min\u001b[39;00m prime_numbers:\n\u001b[1;32m      <a href='vscode-notebook-cell:/Users/ivan/Projects/open-sap-python/week2/openSAP_python1_Week_2_Unit_1_lists_notebook.ipynb#ch0000010?line=4'>5</a>\u001b[0m     \u001b[39mprint\u001b[39m(\u001b[39m\"\u001b[39m\u001b[39mThe list contains the number\u001b[39m\u001b[39m\"\u001b[39m, my_number)\n",
      "File \u001b[0;32m/opt/homebrew/lib/python3.9/site-packages/ipykernel/kernelbase.py:1161\u001b[0m, in \u001b[0;36mKernel.raw_input\u001b[0;34m(self, prompt)\u001b[0m\n\u001b[1;32m   <a href='file:///opt/homebrew/lib/python3.9/site-packages/ipykernel/kernelbase.py?line=1156'>1157</a>\u001b[0m \u001b[39mif\u001b[39;00m \u001b[39mnot\u001b[39;00m \u001b[39mself\u001b[39m\u001b[39m.\u001b[39m_allow_stdin:\n\u001b[1;32m   <a href='file:///opt/homebrew/lib/python3.9/site-packages/ipykernel/kernelbase.py?line=1157'>1158</a>\u001b[0m     \u001b[39mraise\u001b[39;00m StdinNotImplementedError(\n\u001b[1;32m   <a href='file:///opt/homebrew/lib/python3.9/site-packages/ipykernel/kernelbase.py?line=1158'>1159</a>\u001b[0m         \u001b[39m\"\u001b[39m\u001b[39mraw_input was called, but this frontend does not support input requests.\u001b[39m\u001b[39m\"\u001b[39m\n\u001b[1;32m   <a href='file:///opt/homebrew/lib/python3.9/site-packages/ipykernel/kernelbase.py?line=1159'>1160</a>\u001b[0m     )\n\u001b[0;32m-> <a href='file:///opt/homebrew/lib/python3.9/site-packages/ipykernel/kernelbase.py?line=1160'>1161</a>\u001b[0m \u001b[39mreturn\u001b[39;00m \u001b[39mself\u001b[39;49m\u001b[39m.\u001b[39;49m_input_request(\n\u001b[1;32m   <a href='file:///opt/homebrew/lib/python3.9/site-packages/ipykernel/kernelbase.py?line=1161'>1162</a>\u001b[0m     \u001b[39mstr\u001b[39;49m(prompt),\n\u001b[1;32m   <a href='file:///opt/homebrew/lib/python3.9/site-packages/ipykernel/kernelbase.py?line=1162'>1163</a>\u001b[0m     \u001b[39mself\u001b[39;49m\u001b[39m.\u001b[39;49m_parent_ident[\u001b[39m\"\u001b[39;49m\u001b[39mshell\u001b[39;49m\u001b[39m\"\u001b[39;49m],\n\u001b[1;32m   <a href='file:///opt/homebrew/lib/python3.9/site-packages/ipykernel/kernelbase.py?line=1163'>1164</a>\u001b[0m     \u001b[39mself\u001b[39;49m\u001b[39m.\u001b[39;49mget_parent(\u001b[39m\"\u001b[39;49m\u001b[39mshell\u001b[39;49m\u001b[39m\"\u001b[39;49m),\n\u001b[1;32m   <a href='file:///opt/homebrew/lib/python3.9/site-packages/ipykernel/kernelbase.py?line=1164'>1165</a>\u001b[0m     password\u001b[39m=\u001b[39;49m\u001b[39mFalse\u001b[39;49;00m,\n\u001b[1;32m   <a href='file:///opt/homebrew/lib/python3.9/site-packages/ipykernel/kernelbase.py?line=1165'>1166</a>\u001b[0m )\n",
      "File \u001b[0;32m/opt/homebrew/lib/python3.9/site-packages/ipykernel/kernelbase.py:1205\u001b[0m, in \u001b[0;36mKernel._input_request\u001b[0;34m(self, prompt, ident, parent, password)\u001b[0m\n\u001b[1;32m   <a href='file:///opt/homebrew/lib/python3.9/site-packages/ipykernel/kernelbase.py?line=1201'>1202</a>\u001b[0m             \u001b[39mbreak\u001b[39;00m\n\u001b[1;32m   <a href='file:///opt/homebrew/lib/python3.9/site-packages/ipykernel/kernelbase.py?line=1202'>1203</a>\u001b[0m \u001b[39mexcept\u001b[39;00m \u001b[39mKeyboardInterrupt\u001b[39;00m:\n\u001b[1;32m   <a href='file:///opt/homebrew/lib/python3.9/site-packages/ipykernel/kernelbase.py?line=1203'>1204</a>\u001b[0m     \u001b[39m# re-raise KeyboardInterrupt, to truncate traceback\u001b[39;00m\n\u001b[0;32m-> <a href='file:///opt/homebrew/lib/python3.9/site-packages/ipykernel/kernelbase.py?line=1204'>1205</a>\u001b[0m     \u001b[39mraise\u001b[39;00m \u001b[39mKeyboardInterrupt\u001b[39;00m(\u001b[39m\"\u001b[39m\u001b[39mInterrupted by user\u001b[39m\u001b[39m\"\u001b[39m) \u001b[39mfrom\u001b[39;00m \u001b[39mNone\u001b[39m\n\u001b[1;32m   <a href='file:///opt/homebrew/lib/python3.9/site-packages/ipykernel/kernelbase.py?line=1205'>1206</a>\u001b[0m \u001b[39mexcept\u001b[39;00m \u001b[39mException\u001b[39;00m:\n\u001b[1;32m   <a href='file:///opt/homebrew/lib/python3.9/site-packages/ipykernel/kernelbase.py?line=1206'>1207</a>\u001b[0m     \u001b[39mself\u001b[39m\u001b[39m.\u001b[39mlog\u001b[39m.\u001b[39mwarning(\u001b[39m\"\u001b[39m\u001b[39mInvalid Message:\u001b[39m\u001b[39m\"\u001b[39m, exc_info\u001b[39m=\u001b[39m\u001b[39mTrue\u001b[39;00m)\n",
      "\u001b[0;31mKeyboardInterrupt\u001b[0m: Interrupted by user"
     ]
    }
   ],
   "source": [
    "prime_numbers = [2, 3, 5, 7, 11, 13, 17, 19, 23, 29, 31, 37, 41, 43, 47]\n",
    "my_number = int(input(\"Please enter a number: \"))\n",
    "\n",
    "if my_number in prime_numbers:\n",
    "    print(\"The list contains the number\", my_number)\n",
    "else:\n",
    "    print(\"The list does not contain the number\", my_number)"
   ]
  }
 ],
 "metadata": {
  "interpreter": {
   "hash": "ac59ebe37160ed0dfa835113d9b8498d9f09ceb179beaac4002f036b9467c963"
  },
  "kernelspec": {
   "display_name": "Python 3",
   "language": "python",
   "name": "python3"
  },
  "language_info": {
   "codemirror_mode": {
    "name": "ipython",
    "version": 3
   },
   "file_extension": ".py",
   "mimetype": "text/x-python",
   "name": "python",
   "nbconvert_exporter": "python",
   "pygments_lexer": "ipython3",
   "version": "3.9.10"
  }
 },
 "nbformat": 4,
 "nbformat_minor": 2
}
